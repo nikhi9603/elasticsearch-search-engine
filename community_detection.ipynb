{
 "cells": [
  {
   "cell_type": "code",
   "execution_count": 69,
   "id": "ff87c7a3",
   "metadata": {},
   "outputs": [],
   "source": [
    "import subprocess\n",
    "from urllib.parse import urlparse\n",
    "try:\n",
    "    import urllib.request as urllib2\n",
    "except ImportError:\n",
    "    import urllib2\n",
    "from urllib.parse import urlencode\n",
    "import socket\n",
    "from multiprocessing import Queue\n",
    "import threading\n",
    "import getopt\n",
    "import sys\n",
    "import os\n",
    "import networkx as nx\n",
    "from bs4 import BeautifulSoup\n",
    "import matplotlib\n",
    "\n",
    "import matplotlib.pyplot as plt\n",
    "plt.rcParams.update({'figure.figsize': (7, 5), 'figure.dpi': 80})\n",
    "import threading, queue\n",
    "import re\n",
    "import pandas as pd\n",
    "from cdlib import algorithms"
   ]
  },
  {
   "cell_type": "code",
   "execution_count": 70,
   "id": "92c87489",
   "metadata": {},
   "outputs": [],
   "source": [
    "url = \"https://en.wikipedia.org/wiki/Science_fiction_film\""
   ]
  },
  {
   "cell_type": "code",
   "execution_count": 77,
   "id": "83364dba",
   "metadata": {},
   "outputs": [],
   "source": [
    "q = queue.Queue()\n",
    "max_threads=50\n",
    "next_url=queue.Queue()\n",
    "crawled_urls=[]"
   ]
  },
  {
   "cell_type": "code",
   "execution_count": 84,
   "id": "936b951e",
   "metadata": {},
   "outputs": [],
   "source": [
    "def get_links_from_page(url):\n",
    "    urllist = []\n",
    "    try:\n",
    "      res=urllib2.urlopen(url)\n",
    "      htmlpage=res.read()\n",
    "    except:\n",
    "      return urllist\n",
    "\n",
    "    try:\n",
    "      page=BeautifulSoup(htmlpage)\n",
    "    except:\n",
    "      return urllist\n",
    "\n",
    "    #refs=page.findAll(\"a\")\n",
    "    pattern = re.compile(\"/wiki/[\\w]+$\")\n",
    "    refs = page.findAll(\"a\", href=pattern)[25:35]\n",
    "    for a in refs:\n",
    "        link = a['href']\n",
    "        urllist.append(link)\n",
    "    \n",
    "#     links = soup.find_all('a')\n",
    "#     for link in links:\n",
    "#         link_url = link.get('href')\n",
    "#         if link_url is not None:\n",
    "#             base_url = '{uri.scheme}://{uri.netloc}'.format(uri=urlparse(url))\n",
    "#                     #page.links.append(base_url + link_url)\n",
    "#             urllist.append(base_url + link_url)\n",
    "\n",
    "\n",
    "    return urllist"
   ]
  },
  {
   "cell_type": "code",
   "execution_count": 85,
   "id": "f8e8b9fe",
   "metadata": {},
   "outputs": [],
   "source": [
    "def find_links(url_tuple,graph):\n",
    "    '''Crawls to a given depth using a tuple structure to tag urls with their depth'''\n",
    "    global crawled_urls, next_url, max_depth\n",
    "    url = url_tuple[0]\n",
    "    depth = url_tuple[1]\n",
    "    if (depth < 5) :\n",
    "      links = get_links_from_page(url)\n",
    "      for link in links:\n",
    "        '''These two lines create the graph'''\n",
    "        graph.add_node(link)\n",
    "        graph.add_edge(url,link)\n",
    "        '''If the link has not been crawled yet, add it in the queue with additional depth'''\n",
    "        if link not in crawled_urls:\n",
    "          next_url.put((link, depth+1))\n",
    "          crawled_urls.append(link)\n",
    "    print(crawled_urls)\n",
    "    return \n",
    "\n",
    "class crawler_thread(threading.Thread):\n",
    "    def __init__(self,queue,graph):\n",
    "      threading.Thread.__init__(self)\n",
    "      self.to_be_crawled=queue\n",
    "      self.graph=graph\n",
    "      while self.to_be_crawled.empty() is False:\n",
    "        find_links(self.to_be_crawled.get(), self.graph)\n",
    "\n",
    "# def draw_graph(graph, graph_file_name):\n",
    "# \t'''Function to draw the graph and save the files'''\n",
    "# \tnx.draw(graph,with_labels=False)\n",
    "# \t#nx.write_dot(graph,os.cwd()+graph_file_name+'.dot')\n",
    "# \tplt.savefig(os.getcwd()+graph_file_name+'.png')"
   ]
  },
  {
   "cell_type": "code",
   "execution_count": 86,
   "id": "d026b45c",
   "metadata": {},
   "outputs": [],
   "source": [
    "def calculatePageRank(url):\n",
    "  print(str(url))\n",
    "  root_url = url\n",
    "  parser_flag = 'beautifulsoup'\n",
    "  max_depth=5\n",
    "\n",
    "  next_url.put((root_url,0))\n",
    "  crawled_urls.append(root_url)\n",
    "  ip_list=[]\n",
    "  g=nx.Graph()\n",
    "  g.add_node(root_url)\n",
    "  thread_list=[]\n",
    "\n",
    "  for i in range(max_threads): #changed\n",
    "    t=crawler_thread(next_url,g)\n",
    "    t.daemon=True\n",
    "    t.start()\n",
    "    thread_list.append(t)\n",
    "\n",
    "  for t in thread_list:\n",
    "    t.join()\n",
    "\n",
    "  nx.draw(g)\n",
    "  plt.savefig(\"image.png\")\n",
    "  plt.show()\n",
    "  coms = algorithms.walktrap(g)\n",
    "#   pagerank = nx.pagerank(g, alpha=0.85, personalization=None,  weight='weight', dangling=None)\n",
    "#   edgeNumber = g.number_of_edges()\n",
    "#   nodeNumber = g.number_of_nodes()\n",
    "#   nodesize=[g.degree(n)*10 for n in g]\n",
    "#   pos=nx.spring_layout(g,iterations=20)\n",
    "\n",
    "#   nx.draw(g,with_labels=False)\n",
    "#   nx.draw_networkx_nodes(g,pos,node_size=nodesize,node_color='r')\n",
    "#   nx.draw_networkx_edges(g,pos)\n",
    "#   plt.figure(figsize=(5,5))\n",
    "#   plt.show()\n",
    "#   # return np.array(len(ip_list), pagerank.get(url), edgeNumber, nodeNumber)\n",
    "\n",
    "#   draw_graph(g, \"image\")\n",
    "\n",
    "#   return pd.Series([pagerank.get(url), edgeNumber, nodeNumber], index=['pagerank','edges', 'nodes'])"
   ]
  },
  {
   "cell_type": "code",
   "execution_count": 87,
   "id": "e6fb3b38",
   "metadata": {},
   "outputs": [
    {
     "name": "stdout",
     "output_type": "stream",
     "text": [
      "https://en.wikipedia.org/wiki/Science_fiction_film\n",
      "['https://en.wikipedia.org/wiki/Science_fiction_film', 'https://en.wikipedia.org/wiki/Science_fiction_film', '/wiki/Time_travel', '/wiki/Science_fiction', '/wiki/Politics', '/wiki/Social_issue', '/wiki/Human_condition', '/wiki/Genre', '/wiki/Silent_cinema', '/wiki/A_Trip_to_the_Moon', '/wiki/Special_effect', '/wiki/B_movies']\n",
      "['https://en.wikipedia.org/wiki/Science_fiction_film', 'https://en.wikipedia.org/wiki/Science_fiction_film', '/wiki/Time_travel', '/wiki/Science_fiction', '/wiki/Politics', '/wiki/Social_issue', '/wiki/Human_condition', '/wiki/Genre', '/wiki/Silent_cinema', '/wiki/A_Trip_to_the_Moon', '/wiki/Special_effect', '/wiki/B_movies']\n",
      "['https://en.wikipedia.org/wiki/Science_fiction_film', 'https://en.wikipedia.org/wiki/Science_fiction_film', '/wiki/Time_travel', '/wiki/Science_fiction', '/wiki/Politics', '/wiki/Social_issue', '/wiki/Human_condition', '/wiki/Genre', '/wiki/Silent_cinema', '/wiki/A_Trip_to_the_Moon', '/wiki/Special_effect', '/wiki/B_movies']\n",
      "['https://en.wikipedia.org/wiki/Science_fiction_film', 'https://en.wikipedia.org/wiki/Science_fiction_film', '/wiki/Time_travel', '/wiki/Science_fiction', '/wiki/Politics', '/wiki/Social_issue', '/wiki/Human_condition', '/wiki/Genre', '/wiki/Silent_cinema', '/wiki/A_Trip_to_the_Moon', '/wiki/Special_effect', '/wiki/B_movies']\n",
      "['https://en.wikipedia.org/wiki/Science_fiction_film', 'https://en.wikipedia.org/wiki/Science_fiction_film', '/wiki/Time_travel', '/wiki/Science_fiction', '/wiki/Politics', '/wiki/Social_issue', '/wiki/Human_condition', '/wiki/Genre', '/wiki/Silent_cinema', '/wiki/A_Trip_to_the_Moon', '/wiki/Special_effect', '/wiki/B_movies']\n",
      "['https://en.wikipedia.org/wiki/Science_fiction_film', 'https://en.wikipedia.org/wiki/Science_fiction_film', '/wiki/Time_travel', '/wiki/Science_fiction', '/wiki/Politics', '/wiki/Social_issue', '/wiki/Human_condition', '/wiki/Genre', '/wiki/Silent_cinema', '/wiki/A_Trip_to_the_Moon', '/wiki/Special_effect', '/wiki/B_movies']\n",
      "['https://en.wikipedia.org/wiki/Science_fiction_film', 'https://en.wikipedia.org/wiki/Science_fiction_film', '/wiki/Time_travel', '/wiki/Science_fiction', '/wiki/Politics', '/wiki/Social_issue', '/wiki/Human_condition', '/wiki/Genre', '/wiki/Silent_cinema', '/wiki/A_Trip_to_the_Moon', '/wiki/Special_effect', '/wiki/B_movies']\n",
      "['https://en.wikipedia.org/wiki/Science_fiction_film', 'https://en.wikipedia.org/wiki/Science_fiction_film', '/wiki/Time_travel', '/wiki/Science_fiction', '/wiki/Politics', '/wiki/Social_issue', '/wiki/Human_condition', '/wiki/Genre', '/wiki/Silent_cinema', '/wiki/A_Trip_to_the_Moon', '/wiki/Special_effect', '/wiki/B_movies']\n",
      "['https://en.wikipedia.org/wiki/Science_fiction_film', 'https://en.wikipedia.org/wiki/Science_fiction_film', '/wiki/Time_travel', '/wiki/Science_fiction', '/wiki/Politics', '/wiki/Social_issue', '/wiki/Human_condition', '/wiki/Genre', '/wiki/Silent_cinema', '/wiki/A_Trip_to_the_Moon', '/wiki/Special_effect', '/wiki/B_movies']\n",
      "['https://en.wikipedia.org/wiki/Science_fiction_film', 'https://en.wikipedia.org/wiki/Science_fiction_film', '/wiki/Time_travel', '/wiki/Science_fiction', '/wiki/Politics', '/wiki/Social_issue', '/wiki/Human_condition', '/wiki/Genre', '/wiki/Silent_cinema', '/wiki/A_Trip_to_the_Moon', '/wiki/Special_effect', '/wiki/B_movies']\n",
      "['https://en.wikipedia.org/wiki/Science_fiction_film', 'https://en.wikipedia.org/wiki/Science_fiction_film', '/wiki/Time_travel', '/wiki/Science_fiction', '/wiki/Politics', '/wiki/Social_issue', '/wiki/Human_condition', '/wiki/Genre', '/wiki/Silent_cinema', '/wiki/A_Trip_to_the_Moon', '/wiki/Special_effect', '/wiki/B_movies']\n"
     ]
    },
    {
     "data": {
      "image/png": "[encoded data removed]",
      "text/plain": [
       "<Figure size 560x400 with 1 Axes>"
      ]
     },
     "metadata": {},
     "output_type": "display_data"
    },
    {
     "ename": "ValueError",
     "evalue": "invalid literal for int() with base 10: 'https://en.wikipedia.org/wiki/Science_fiction_film'",
     "output_type": "error",
     "traceback": [
      "\u001b[0;31m---------------------------------------------------------------------------\u001b[0m",
      "\u001b[0;31mValueError\u001b[0m                                Traceback (most recent call last)",
      "Cell \u001b[0;32mIn [87], line 1\u001b[0m\n\u001b[0;32m----> 1\u001b[0m \u001b[43mcalculatePageRank\u001b[49m\u001b[43m(\u001b[49m\u001b[43murl\u001b[49m\u001b[43m)\u001b[49m\n",
      "Cell \u001b[0;32mIn [86], line 26\u001b[0m, in \u001b[0;36mcalculatePageRank\u001b[0;34m(url)\u001b[0m\n\u001b[1;32m     24\u001b[0m plt\u001b[38;5;241m.\u001b[39msavefig(\u001b[38;5;124m\"\u001b[39m\u001b[38;5;124mimage.png\u001b[39m\u001b[38;5;124m\"\u001b[39m)\n\u001b[1;32m     25\u001b[0m plt\u001b[38;5;241m.\u001b[39mshow()\n\u001b[0;32m---> 26\u001b[0m coms \u001b[38;5;241m=\u001b[39m \u001b[43malgorithms\u001b[49m\u001b[38;5;241;43m.\u001b[39;49m\u001b[43mwalktrap\u001b[49m\u001b[43m(\u001b[49m\u001b[43mg\u001b[49m\u001b[43m)\u001b[49m\n",
      "File \u001b[0;32m~/.local/lib/python3.10/site-packages/cdlib/algorithms/crisp_partition.py:1158\u001b[0m, in \u001b[0;36mwalktrap\u001b[0;34m(g_original)\u001b[0m\n\u001b[1;32m   1153\u001b[0m \u001b[38;5;28;01mif\u001b[39;00m ig \u001b[38;5;129;01mis\u001b[39;00m \u001b[38;5;28;01mNone\u001b[39;00m:\n\u001b[1;32m   1154\u001b[0m     \u001b[38;5;28;01mraise\u001b[39;00m \u001b[38;5;167;01mModuleNotFoundError\u001b[39;00m(\n\u001b[1;32m   1155\u001b[0m         \u001b[38;5;124m\"\u001b[39m\u001b[38;5;124mOptional dependency not satisfied: install igraph to use the selected feature.\u001b[39m\u001b[38;5;124m\"\u001b[39m\n\u001b[1;32m   1156\u001b[0m     )\n\u001b[0;32m-> 1158\u001b[0m g \u001b[38;5;241m=\u001b[39m \u001b[43mconvert_graph_formats\u001b[49m\u001b[43m(\u001b[49m\u001b[43mg_original\u001b[49m\u001b[43m,\u001b[49m\u001b[43m \u001b[49m\u001b[43mig\u001b[49m\u001b[38;5;241;43m.\u001b[39;49m\u001b[43mGraph\u001b[49m\u001b[43m)\u001b[49m\n\u001b[1;32m   1159\u001b[0m coms \u001b[38;5;241m=\u001b[39m g\u001b[38;5;241m.\u001b[39mcommunity_walktrap()\u001b[38;5;241m.\u001b[39mas_clustering()\n\u001b[1;32m   1160\u001b[0m communities \u001b[38;5;241m=\u001b[39m []\n",
      "File \u001b[0;32m~/.local/lib/python3.10/site-packages/cdlib/utils.py:187\u001b[0m, in \u001b[0;36mconvert_graph_formats\u001b[0;34m(graph, desired_format, directed)\u001b[0m\n\u001b[1;32m    185\u001b[0m     \u001b[38;5;28;01mreturn\u001b[39;00m __from_igraph_to_nx(graph, directed)\n\u001b[1;32m    186\u001b[0m \u001b[38;5;28;01melif\u001b[39;00m ig \u001b[38;5;129;01mis\u001b[39;00m \u001b[38;5;129;01mnot\u001b[39;00m \u001b[38;5;28;01mNone\u001b[39;00m \u001b[38;5;129;01mand\u001b[39;00m desired_format \u001b[38;5;129;01mis\u001b[39;00m ig\u001b[38;5;241m.\u001b[39mGraph:\n\u001b[0;32m--> 187\u001b[0m     \u001b[38;5;28;01mreturn\u001b[39;00m \u001b[43m__from_nx_to_igraph\u001b[49m\u001b[43m(\u001b[49m\u001b[43mgraph\u001b[49m\u001b[43m,\u001b[49m\u001b[43m \u001b[49m\u001b[43mdirected\u001b[49m\u001b[43m)\u001b[49m\n\u001b[1;32m    188\u001b[0m \u001b[38;5;28;01melse\u001b[39;00m:\n\u001b[1;32m    189\u001b[0m     \u001b[38;5;28;01mraise\u001b[39;00m \u001b[38;5;167;01mTypeError\u001b[39;00m(\n\u001b[1;32m    190\u001b[0m         \u001b[38;5;124m\"\u001b[39m\u001b[38;5;124mThe graph object should be either a networkx or an igraph one.\u001b[39m\u001b[38;5;124m\"\u001b[39m\n\u001b[1;32m    191\u001b[0m     )\n",
      "File \u001b[0;32m~/.local/lib/python3.10/site-packages/cdlib/utils.py:131\u001b[0m, in \u001b[0;36m__from_nx_to_igraph\u001b[0;34m(g, directed)\u001b[0m\n\u001b[1;32m    128\u001b[0m         gi\u001b[38;5;241m.\u001b[39madd_edges([(\u001b[38;5;124m\"\u001b[39m\u001b[38;5;130;01m\\\\\u001b[39;00m\u001b[38;5;124m\"\u001b[39m \u001b[38;5;241m+\u001b[39m \u001b[38;5;28mstr\u001b[39m(u), \u001b[38;5;124m\"\u001b[39m\u001b[38;5;130;01m\\\\\u001b[39;00m\u001b[38;5;124m\"\u001b[39m \u001b[38;5;241m+\u001b[39m \u001b[38;5;28mstr\u001b[39m(v)) \u001b[38;5;28;01mfor\u001b[39;00m (u, v) \u001b[38;5;129;01min\u001b[39;00m g\u001b[38;5;241m.\u001b[39medges()])\n\u001b[1;32m    130\u001b[0m \u001b[38;5;28;01mif\u001b[39;00m bipartite\u001b[38;5;241m.\u001b[39mis_bipartite(g):\n\u001b[0;32m--> 131\u001b[0m     gi\u001b[38;5;241m.\u001b[39mvs[\u001b[38;5;124m\"\u001b[39m\u001b[38;5;124mtype\u001b[39m\u001b[38;5;124m\"\u001b[39m] \u001b[38;5;241m=\u001b[39m [\n\u001b[1;32m    132\u001b[0m         a_r[name] \u001b[38;5;28;01mif\u001b[39;00m \u001b[38;5;28mtype\u001b[39m(name) \u001b[38;5;241m==\u001b[39m \u001b[38;5;28mint\u001b[39m \u001b[38;5;28;01melse\u001b[39;00m a_r[\u001b[38;5;28mint\u001b[39m(name\u001b[38;5;241m.\u001b[39mreplace(\u001b[38;5;124m\"\u001b[39m\u001b[38;5;130;01m\\\\\u001b[39;00m\u001b[38;5;124m\"\u001b[39m, \u001b[38;5;124m\"\u001b[39m\u001b[38;5;124m\"\u001b[39m))]\n\u001b[1;32m    133\u001b[0m         \u001b[38;5;28;01mfor\u001b[39;00m name \u001b[38;5;129;01min\u001b[39;00m gi\u001b[38;5;241m.\u001b[39mvs[\u001b[38;5;124m\"\u001b[39m\u001b[38;5;124mname\u001b[39m\u001b[38;5;124m\"\u001b[39m]\n\u001b[1;32m    134\u001b[0m     ]\n\u001b[1;32m    136\u001b[0m edgelist \u001b[38;5;241m=\u001b[39m nx\u001b[38;5;241m.\u001b[39mto_pandas_edgelist(g)\n\u001b[1;32m    137\u001b[0m \u001b[38;5;28;01mfor\u001b[39;00m attr \u001b[38;5;129;01min\u001b[39;00m edgelist\u001b[38;5;241m.\u001b[39mcolumns[\u001b[38;5;241m2\u001b[39m:]:\n",
      "File \u001b[0;32m~/.local/lib/python3.10/site-packages/cdlib/utils.py:132\u001b[0m, in \u001b[0;36m<listcomp>\u001b[0;34m(.0)\u001b[0m\n\u001b[1;32m    128\u001b[0m         gi\u001b[38;5;241m.\u001b[39madd_edges([(\u001b[38;5;124m\"\u001b[39m\u001b[38;5;130;01m\\\\\u001b[39;00m\u001b[38;5;124m\"\u001b[39m \u001b[38;5;241m+\u001b[39m \u001b[38;5;28mstr\u001b[39m(u), \u001b[38;5;124m\"\u001b[39m\u001b[38;5;130;01m\\\\\u001b[39;00m\u001b[38;5;124m\"\u001b[39m \u001b[38;5;241m+\u001b[39m \u001b[38;5;28mstr\u001b[39m(v)) \u001b[38;5;28;01mfor\u001b[39;00m (u, v) \u001b[38;5;129;01min\u001b[39;00m g\u001b[38;5;241m.\u001b[39medges()])\n\u001b[1;32m    130\u001b[0m \u001b[38;5;28;01mif\u001b[39;00m bipartite\u001b[38;5;241m.\u001b[39mis_bipartite(g):\n\u001b[1;32m    131\u001b[0m     gi\u001b[38;5;241m.\u001b[39mvs[\u001b[38;5;124m\"\u001b[39m\u001b[38;5;124mtype\u001b[39m\u001b[38;5;124m\"\u001b[39m] \u001b[38;5;241m=\u001b[39m [\n\u001b[0;32m--> 132\u001b[0m         a_r[name] \u001b[38;5;28;01mif\u001b[39;00m \u001b[38;5;28mtype\u001b[39m(name) \u001b[38;5;241m==\u001b[39m \u001b[38;5;28mint\u001b[39m \u001b[38;5;28;01melse\u001b[39;00m a_r[\u001b[38;5;28;43mint\u001b[39;49m\u001b[43m(\u001b[49m\u001b[43mname\u001b[49m\u001b[38;5;241;43m.\u001b[39;49m\u001b[43mreplace\u001b[49m\u001b[43m(\u001b[49m\u001b[38;5;124;43m\"\u001b[39;49m\u001b[38;5;130;43;01m\\\\\u001b[39;49;00m\u001b[38;5;124;43m\"\u001b[39;49m\u001b[43m,\u001b[49m\u001b[43m \u001b[49m\u001b[38;5;124;43m\"\u001b[39;49m\u001b[38;5;124;43m\"\u001b[39;49m\u001b[43m)\u001b[49m\u001b[43m)\u001b[49m]\n\u001b[1;32m    133\u001b[0m         \u001b[38;5;28;01mfor\u001b[39;00m name \u001b[38;5;129;01min\u001b[39;00m gi\u001b[38;5;241m.\u001b[39mvs[\u001b[38;5;124m\"\u001b[39m\u001b[38;5;124mname\u001b[39m\u001b[38;5;124m\"\u001b[39m]\n\u001b[1;32m    134\u001b[0m     ]\n\u001b[1;32m    136\u001b[0m edgelist \u001b[38;5;241m=\u001b[39m nx\u001b[38;5;241m.\u001b[39mto_pandas_edgelist(g)\n\u001b[1;32m    137\u001b[0m \u001b[38;5;28;01mfor\u001b[39;00m attr \u001b[38;5;129;01min\u001b[39;00m edgelist\u001b[38;5;241m.\u001b[39mcolumns[\u001b[38;5;241m2\u001b[39m:]:\n",
      "\u001b[0;31mValueError\u001b[0m: invalid literal for int() with base 10: 'https://en.wikipedia.org/wiki/Science_fiction_film'"
     ]
    }
   ],
   "source": [
    "calculatePageRank(url)"
   ]
  },
  {
   "cell_type": "code",
   "execution_count": null,
   "id": "27386cda",
   "metadata": {},
   "outputs": [],
   "source": []
  }
 ],
 "metadata": {
  "kernelspec": {
   "display_name": "Python 3 (ipykernel)",
   "language": "python",
   "name": "python3"
  },
  "language_info": {
   "codemirror_mode": {
    "name": "ipython",
    "version": 3
   },
   "file_extension": ".py",
   "mimetype": "text/x-python",
   "name": "python",
   "nbconvert_exporter": "python",
   "pygments_lexer": "ipython3",
   "version": "3.10.6"
  }
 },
 "nbformat": 4,
 "nbformat_minor": 5
}
